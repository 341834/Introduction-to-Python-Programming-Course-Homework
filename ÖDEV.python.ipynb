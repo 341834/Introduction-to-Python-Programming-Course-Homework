{
 "cells": [
  {
   "cell_type": "code",
   "execution_count": null,
   "metadata": {},
   "outputs": [],
   "source": [
    "# DERS SEÇİMİ VE HARF NOTU HESAPLAMA"
   ]
  },
  {
   "cell_type": "code",
   "execution_count": null,
   "metadata": {},
   "outputs": [],
   "source": [
    "ad_soyad=\"hasan uzak\"\n",
    "b= False\n",
    "for i in range(3):\n",
    "    a=input(\"adınızı ve soyadınızı giriniz:\")\n",
    "    if a==ad_soyad:\n",
    "        b=True\n",
    "        break\n",
    "if b==False:\n",
    "    print(\"lütfen daha sonra tekrar deneyin\")\n",
    "else:\n",
    "    print(\"Hoşgeldiniz \"+a)"
   ]
  },
  {
   "cell_type": "code",
   "execution_count": null,
   "metadata": {},
   "outputs": [
    {
     "name": "stdout",
     "output_type": "stream",
     "text": [
      "Matematik,Geometri,Fizik,Kimya,Biyoloji,İngilizce derslerinden en az 3 en fazla 5 adet seçin\n"
     ]
    }
   ],
   "source": [
    "#(Matematik,Geometri,Fizik,Kimya,Biyoloji,İngilizce derslerinden en az 3 en fazla 5 adet seçin)\n",
    "print(\"Matematik,Geometri,Fizik,Kimya,Biyoloji,İngilizce derslerinden en az 3 en fazla 5 adet seçin\")\n",
    "liste=list()\n",
    "for i in range(5):\n",
    "    lesson=input(\"Seçtiğiniz dersleri giriniz:\")\n",
    "    liste.append(lesson)\n",
    "    print(liste)"
   ]
  },
  {
   "cell_type": "code",
   "execution_count": null,
   "metadata": {},
   "outputs": [],
   "source": [
    "m={\"vize\":80, \"final\":75, \"proje\":70}\n",
    "g={\"vize\":70, \"final\":65, \"proje\":77}\n",
    "f={\"vize\":60, \"final\":45, \"proje\":76}\n",
    "k={\"vize\":50, \"final\":78, \"proje\":47}\n",
    "b={\"vize\":60, \"final\":65, \"proje\":69}\n",
    "i={\"vize\":40, \"final\":74, \"proje\":70}"
   ]
  },
  {
   "cell_type": "code",
   "execution_count": null,
   "metadata": {},
   "outputs": [],
   "source": [
    "matematik=m[\"vize\"]*30/100+m[\"final\"]*50/100+m[\"proje\"]*20/100\n",
    "geometri=g[\"vize\"]*30/100+g[\"final\"]*50/100+g[\"proje\"]*20/100\n",
    "fizik=f[\"vize\"]*30/100+f[\"final\"]*50/100+f[\"proje\"]*20/100\n",
    "kimya=k[\"vize\"]*30/100+k[\"final\"]*50/100+k[\"proje\"]*20/100\n",
    "biyoloji=b[\"vize\"]*30/100+b[\"final\"]*50/100+b[\"proje\"]*20/100\n",
    "ingilizce=i[\"vize\"]*30/100+i[\"final\"]*50/100+i[\"proje\"]*20/100"
   ]
  },
  {
   "cell_type": "code",
   "execution_count": null,
   "metadata": {},
   "outputs": [],
   "source": [
    "if 3<=len(liste)<=5:\n",
    "    print(\"seçtiğiniz ders sayısı uygundur\")\n",
    "else:\n",
    "    print(\"Sınıfta kaldınız\")\n"
   ]
  },
  {
   "cell_type": "code",
   "execution_count": null,
   "metadata": {},
   "outputs": [],
   "source": [
    "def harf_notu_hesaplama(x):\n",
    "    if x>=90:\n",
    "        print(\"Harf Notu:AA\")\n",
    "    elif 70<=x<90:\n",
    "        print(\"Harf Notu:BB\")\n",
    "    elif 50<=x<70:\n",
    "        print(\"Harf Notu:CC\")\n",
    "    elif 30<=x<50:\n",
    "        print(\"Harf Notu:DD\")\n",
    "    elif x<30:\n",
    "        print(\"Harf Notu:FF---DERSTEN KALDINIZ!!!!!\")"
   ]
  },
  {
   "cell_type": "code",
   "execution_count": null,
   "metadata": {},
   "outputs": [],
   "source": [
    "harf_notu_hesaplama(matematik)"
   ]
  },
  {
   "cell_type": "code",
   "execution_count": null,
   "metadata": {},
   "outputs": [],
   "source": []
  }
 ],
 "metadata": {
  "kernelspec": {
   "display_name": "Python 3",
   "language": "python",
   "name": "python3"
  },
  "language_info": {
   "codemirror_mode": {
    "name": "ipython",
    "version": 3
   },
   "file_extension": ".py",
   "mimetype": "text/x-python",
   "name": "python",
   "nbconvert_exporter": "python",
   "pygments_lexer": "ipython3",
   "version": "3.7.4"
  }
 },
 "nbformat": 4,
 "nbformat_minor": 4
}
